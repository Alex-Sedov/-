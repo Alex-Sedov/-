{
 "cells": [
  {
   "cell_type": "code",
   "execution_count": 1,
   "id": "29b37206",
   "metadata": {
    "scrolled": true
   },
   "outputs": [
    {
     "name": "stdout",
     "output_type": "stream",
     "text": [
      "Requirement already satisfied: tabulate in c:\\programdata\\anaconda3\\lib\\site-packages (0.8.10)\n"
     ]
    }
   ],
   "source": [
    "#грузим библиотеки\n",
    "\n",
    "import pandas as pd\n",
    "import numpy as np\n",
    "import seaborn as sns\n",
    "import matplotlib.pyplot as plt\n",
    "\n",
    "import nltk\n",
    "import pymorphy2\n",
    "import re\n",
    "\n",
    "from tqdm import notebook\n",
    "\n",
    "!pip install tabulate\n",
    "from tabulate import tabulate"
   ]
  },
  {
   "cell_type": "code",
   "execution_count": 2,
   "id": "67769d85",
   "metadata": {},
   "outputs": [],
   "source": [
    "import os\n",
    "\n",
    "pth1 = '/datasets/toxic_comments.csv'\n",
    "pth2 = 'C:downloads/brewise.csv'\n",
    "if os.path.exists(pth1):\n",
    "    df = pd.read_csv(pth1)\n",
    "elif os.path.exists(pth2):\n",
    "    df = pd.read_csv(pth2)\n",
    "else:\n",
    "    print('Something is wrong')"
   ]
  },
  {
   "cell_type": "code",
   "execution_count": 3,
   "id": "6db94a8d",
   "metadata": {},
   "outputs": [],
   "source": [
    "pd.options.display.max_colwidth = 1000 # чтобы лучше текст прочитать"
   ]
  },
  {
   "cell_type": "code",
   "execution_count": 4,
   "id": "35841e4c",
   "metadata": {
    "scrolled": true
   },
   "outputs": [
    {
     "data": {
      "text/plain": [
       "array([0, 1, 2, 3, 4, 5], dtype=int64)"
      ]
     },
     "execution_count": 4,
     "metadata": {},
     "output_type": "execute_result"
    }
   ],
   "source": [
    "# посмотрим на количество диалогов df\n",
    "df.dlg_id.unique()"
   ]
  },
  {
   "cell_type": "code",
   "execution_count": 5,
   "id": "3ac6a6f4",
   "metadata": {},
   "outputs": [
    {
     "data": {
      "text/plain": [
       "role\n",
       "client     279\n",
       "manager    201\n",
       "Name: text, dtype: int64"
      ]
     },
     "execution_count": 5,
     "metadata": {},
     "output_type": "execute_result"
    }
   ],
   "source": [
    "# посмотрим количество текстовых сообщений клиента и менеджера\n",
    "df.groupby(['role'])['text'].count()"
   ]
  },
  {
   "cell_type": "code",
   "execution_count": 6,
   "id": "4c8f8f10",
   "metadata": {},
   "outputs": [
    {
     "data": {
      "image/png": "[encoded data removed]",
      "text/plain": [
       "<Figure size 1080x576 with 1 Axes>"
      ]
     },
     "metadata": {},
     "output_type": "display_data"
    }
   ],
   "source": [
    "fig,(ax1) = plt.subplots(1, figsize=(15,8))\n",
    "\n",
    "df.groupby(['role'])['text'].count().plot(kind='pie',ax=ax1,shadow=True,subplots=True, startangle=15,autopct='%0.1f%%')\n",
    "ax1.set_title('распределение сообщений клиента и менеджера',fontsize=15)\n",
    "\n",
    "plt.show()"
   ]
  },
  {
   "cell_type": "markdown",
   "id": "742bed80",
   "metadata": {},
   "source": [
    "**Вывод:**\n",
    "\n",
    "* Мы посмотрели первичные данные перед парсингом диалогов.\n",
    "* Увидели, что клиенты пишут/задают вопросы больше чем менеджеры.\n",
    "* В наших данных 6 диалогов между клиентами и менеджерами.\n",
    "* Приступим к выполнению заданию."
   ]
  },
  {
   "cell_type": "markdown",
   "id": "f75d0b1a",
   "metadata": {},
   "source": [
    "---------------------------------------------------\n",
    "\n",
    "\n"
   ]
  },
  {
   "cell_type": "code",
   "execution_count": 7,
   "id": "e79a8216",
   "metadata": {},
   "outputs": [
    {
     "name": "stdout",
     "output_type": "stream",
     "text": [
      "Поздоровался\n",
      "диалог № 0\n",
      "[(' ', 'здравствуйте', '\\n')]\n",
      "Поздоровался\n",
      "диалог № 1\n",
      "[(' ', 'здравствуйте', '\\n')]\n",
      "Поздоровался\n",
      "диалог № 2\n",
      "[(' ', 'здравствуйте', '\\n')]\n",
      "Поздоровался\n",
      "диалог № 3\n",
      "[(' ', 'добрый день', '\\n')]\n",
      "Затупил\n",
      "диалог № 4\n",
      "Затупил\n",
      "диалог № 5\n"
     ]
    }
   ],
   "source": [
    "say_hello = []\n",
    "for i in range(6):\n",
    "    if re.findall(r'(?i)(\\W|^)(здравствуйте|добрый вечер|добрый день|привет|доброе утро|приветствую|доброго времени суток)(\\W|$)',\n",
    "                  str(df.loc[(df['dlg_id'] == i) &(df['role'] == 'manager')][:2]['text'])):\n",
    "        print('Поздоровался')\n",
    "        print('диалог №',i)\n",
    "        print(re.findall(r'(?i)(\\W|^)(здравствуйте|добрый вечер|добрый день|привет|доброе утро|приветствую|доброго времени суток)(\\W|$)',\n",
    "                  str(df.loc[(df['dlg_id'] == i) &(df['role'] == 'manager')][:2]['text'])))\n",
    "        say_hello.append(i)\n",
    "    else:\n",
    "        print('Затупил')\n",
    "        print('диалог №',i)"
   ]
  },
  {
   "cell_type": "markdown",
   "id": "9eed695c",
   "metadata": {},
   "source": [
    "**Вывод:**\n",
    "\n",
    "`a. Извлекать реплики с приветствием – где менеджер поздоровался.`\n",
    "\n",
    "* Менеджер из диалога 1-4 поприветствовали клинета.\n",
    "* Менеджер из диалога 5-6 не поздоровался с клиентом."
   ]
  },
  {
   "cell_type": "markdown",
   "id": "3178b07f",
   "metadata": {},
   "source": [
    "---------------------------------------------------\n",
    "\n",
    "\n"
   ]
  },
  {
   "cell_type": "code",
   "execution_count": 8,
   "id": "5c41db67",
   "metadata": {},
   "outputs": [
    {
     "name": "stdout",
     "output_type": "stream",
     "text": [
      "Попрощался\n",
      "диалог № 0\n",
      "[(' ', 'Всего хорошего', ' ')]\n",
      "Попрощался\n",
      "диалог № 1\n",
      "[(' ', 'всего хорошего', '\\n'), (' ', 'До свидания', '\\n')]\n",
      "Затупил\n",
      "диалог № 2\n",
      "Попрощался\n",
      "диалог № 3\n",
      "[(' ', 'всего доброго', '\\n')]\n",
      "Попрощался\n",
      "диалог № 4\n",
      "[(' ', 'до свидания', '\\n')]\n",
      "Попрощался\n",
      "диалог № 5\n",
      "[(' ', 'до свидания', ' ')]\n"
     ]
    }
   ],
   "source": [
    "say_goodbye = []\n",
    "for i in range(6):\n",
    "    if re.findall(r'(?i)(\\W|^)(до свидания|пока|до встречи|всего хорошего|счастливо|всего доброго)(\\W|$)',\n",
    "                  str(df.loc[(df['dlg_id'] == i) &(df['role'] == 'manager')][:]['text'])):\n",
    "        print('Попрощался')\n",
    "        print('диалог №', i)\n",
    "        print(re.findall(r'(?i)(\\W|^)(до свидания|пока|до встречи|всего хорошего|счастливо|всего доброго)(\\W|$)',\n",
    "                  str(df.loc[(df['dlg_id'] == i) &(df['role'] == 'manager')][:]['text'])))\n",
    "        say_goodbye.append(i)\n",
    "    else:\n",
    "        print('Затупил')\n",
    "        print('диалог №', i)"
   ]
  },
  {
   "cell_type": "markdown",
   "id": "e96208a0",
   "metadata": {},
   "source": [
    "**Вывод:**\n",
    "\n",
    "`b. Извлекать реплики, где менеджер попрощался.`\n",
    "\n",
    "`Попробуйте учесть возможные синонимичные выражения, которые могут помочь с извлечением данных сущностей.`\n",
    "\n",
    "* Менеджеры из всех диалогов кроме третьего попрощались с клиентом."
   ]
  },
  {
   "cell_type": "markdown",
   "id": "b13da47b",
   "metadata": {},
   "source": [
    "---------------------------------------------------\n",
    "\n",
    "\n"
   ]
  },
  {
   "cell_type": "code",
   "execution_count": 9,
   "id": "e70f5027",
   "metadata": {},
   "outputs": [
    {
     "name": "stdout",
     "output_type": "stream",
     "text": [
      "Назвал компанию\n",
      "диалог № 0\n",
      "[(' ', 'диджитал', ' ')]\n",
      "Назвал компанию\n",
      "диалог № 1\n",
      "[(' ', 'диджитал', ' ')]\n",
      "Назвал компанию\n",
      "диалог № 2\n",
      "[(' ', 'диджитал', ' '), (' ', 'Диджитал', ' ')]\n",
      "Назвал компанию\n",
      "диалог № 3\n",
      "[(' ', 'китобизнес', ' ')]\n",
      "Затупил\n",
      "диалог № 4\n",
      "Затупил\n",
      "диалог № 5\n"
     ]
    }
   ],
   "source": [
    "for i in range(6):\n",
    "    if re.findall(r'(?i)(\\W|^)(китобизнес|диджитал)(\\W|$)',\n",
    "                  str(df.loc[(df['dlg_id'] == i) &(df['role'] == 'manager')][:]['text'])):\n",
    "        print('Назвал компанию')\n",
    "        print('диалог №', i)\n",
    "        print(re.findall(r'(?i)(\\W|^)(китобизнес|диджитал)(\\W|$)',\n",
    "                  str(df.loc[(df['dlg_id'] == i) &(df['role'] == 'manager')][:]['text'])))\n",
    "    else:\n",
    "        print('Затупил')\n",
    "        print('диалог №', i)"
   ]
  },
  {
   "cell_type": "markdown",
   "id": "3f92416f",
   "metadata": {},
   "source": [
    "**Вывовд:**\n",
    "\n",
    "`d. Извлекать название компании.`\n",
    "\n",
    "  * Менеджер в 5 и 6 диалоге не назвали компанию в которой работает, следовательно в 1-4 назвал."
   ]
  },
  {
   "cell_type": "markdown",
   "id": "76478340",
   "metadata": {},
   "source": [
    "---------------------------------------------------\n",
    "\n",
    "\n"
   ]
  },
  {
   "cell_type": "code",
   "execution_count": 10,
   "id": "41b4314a",
   "metadata": {},
   "outputs": [
    {
     "name": "stdout",
     "output_type": "stream",
     "text": [
      "0\n",
      "ангелина    \t(    ангелина)\tscore:\t1.0\n",
      "1\n",
      "ангелина    \t(    ангелина)\tscore:\t1.0\n",
      "2\n",
      "ангелина    \t(    ангелина)\tscore:\t1.0\n",
      "3\n",
      "дмитрий     \t(     дмитрий)\tscore:\t0.986\n",
      "3\n",
      "максим      \t(      максим)\tscore:\t0.636\n",
      "3\n",
      "дмитрий     \t(     дмитрий)\tscore:\t0.986\n",
      "3\n",
      "анастасия   \t(   анастасия)\tscore:\t0.939\n",
      "5\n",
      "анастасия   \t(   анастасия)\tscore:\t0.939\n",
      "5\n",
      "дмитрий     \t(     дмитрий)\tscore:\t0.986\n"
     ]
    }
   ],
   "source": [
    "# probability score threshold\n",
    "# извлекаем имена с диалогов и показываем порог точности\n",
    "prob_thresh = 0.4\n",
    "morph = pymorphy2.MorphAnalyzer()\n",
    "for i in range(6):\n",
    "    for word in nltk.word_tokenize(str(df.loc[(df['dlg_id'] == i)&(df['role'] == 'manager')]['text'])):\n",
    "        for p in morph.parse(word):\n",
    "            if 'Name' in p.tag and p.score >= prob_thresh:\n",
    "                print(i)\n",
    "                print('{:<12}\\t({:>12})\\tscore:\\t{:0.3}'.format(word, p.normal_form, p.score))"
   ]
  },
  {
   "cell_type": "markdown",
   "id": "9eeadbfe",
   "metadata": {},
   "source": [
    "**Вывод**:\n",
    "\n",
    "`c. Извлекать имя менеджера.\n",
    " b. Извлекать реплики, где менеджер представил себя.`\n",
    "\n",
    "Пропарсили имена из диалогов менеджера и видим, что в 4 диалоге менеджер не представился. В четвертом видим повтор имени дмитрий  и он появляется в 5 диалоге,уверен из данных выше,что это идёт обращение к клиенту. Значит менеджера зовут максим в 4 диалоге и в 6 анастасия."
   ]
  },
  {
   "cell_type": "markdown",
   "id": "f09d2731",
   "metadata": {},
   "source": [
    "---------------------------------------------------\n",
    "\n",
    "\n"
   ]
  },
  {
   "cell_type": "code",
   "execution_count": 11,
   "id": "614b947e",
   "metadata": {},
   "outputs": [
    {
     "name": "stdout",
     "output_type": "stream",
     "text": [
      "[0, 1, 3]\n"
     ]
    }
   ],
   "source": [
    "\"\"\"\n",
    "say_goodbye - лежит список в котором произведена проверка менеджера на то,что он прощается с клиентом.\n",
    "\n",
    "say_hello - лежит список в котором произведена проверка менеджера на то, что он поздоровался с клиентом.\n",
    "\"\"\"\n",
    "result=[]\n",
    "for i in say_hello:\n",
    "    for j in say_goodbye:\n",
    "        if i == j:\n",
    "            result.append(say_hello[i])\n",
    "print(result)"
   ]
  },
  {
   "cell_type": "markdown",
   "id": "1cf778e5",
   "metadata": {},
   "source": [
    "**Вывод:**\n",
    "\n",
    "`f. Проверять требование к менеджеру: «В каждом диалоге обязательно необходимо поздороваться и попрощаться с клиентом»`\n",
    "\n",
    "* Результат верхнего цикла показал,что добросовесно относятся к работе менеджер 1,2,4 диалога. Только они приветствуют и прощаются с клиентом в процессе переписки."
   ]
  },
  {
   "cell_type": "markdown",
   "id": "05883661",
   "metadata": {},
   "source": [
    "# Общий вывод"
   ]
  },
  {
   "cell_type": "code",
   "execution_count": 12,
   "id": "c0620244",
   "metadata": {},
   "outputs": [],
   "source": [
    "conclusion = {'поздоровался': ['+','+','+','+','-','-'],\n",
    "              'попрощался': ['+','+','-','+','+','+'],\n",
    "              'представился': ['Ангелина','Ангелина','Ангелина','Максим','-','Анастасия'], \n",
    "              'имя менеджера': ['Ангелина','Ангелина','Ангелина','Максим','-','Анастасия'],\n",
    "              'сказал название компании': ['+','+','+','+','-','-'],\n",
    "              'поздоровался и попрощался': ['+','+','-','+','-','-']\n",
    "             }"
   ]
  },
  {
   "cell_type": "code",
   "execution_count": 13,
   "id": "7be91cd0",
   "metadata": {
    "scrolled": true
   },
   "outputs": [
    {
     "name": "stdout",
     "output_type": "stream",
     "text": [
      "+----------------+--------------+----------------+-----------------+----------------------------+-----------------------------+\n",
      "|  поздоровался  |  попрощался  |  представился  |  имя менеджера  |  сказал название компании  |  поздоровался и попрощался  |\n",
      "+================+==============+================+=================+============================+=============================+\n",
      "|       +        |      +       |    Ангелина    |    Ангелина     |             +              |              +              |\n",
      "+----------------+--------------+----------------+-----------------+----------------------------+-----------------------------+\n",
      "|       +        |      +       |    Ангелина    |    Ангелина     |             +              |              +              |\n",
      "+----------------+--------------+----------------+-----------------+----------------------------+-----------------------------+\n",
      "|       +        |      -       |    Ангелина    |    Ангелина     |             +              |              -              |\n",
      "+----------------+--------------+----------------+-----------------+----------------------------+-----------------------------+\n",
      "|       +        |      +       |     Максим     |     Максим      |             +              |              +              |\n",
      "+----------------+--------------+----------------+-----------------+----------------------------+-----------------------------+\n",
      "|       -        |      +       |       -        |        -        |             -              |              -              |\n",
      "+----------------+--------------+----------------+-----------------+----------------------------+-----------------------------+\n",
      "|       -        |      +       |   Анастасия    |    Анастасия    |             -              |              -              |\n",
      "+----------------+--------------+----------------+-----------------+----------------------------+-----------------------------+\n"
     ]
    }
   ],
   "source": [
    "print(tabulate(conclusion, headers='keys', tablefmt=\"grid\",stralign='center'))"
   ]
  }
 ],
 "metadata": {
  "kernelspec": {
   "display_name": "Python 3 (ipykernel)",
   "language": "python",
   "name": "python3"
  },
  "language_info": {
   "codemirror_mode": {
    "name": "ipython",
    "version": 3
   },
   "file_extension": ".py",
   "mimetype": "text/x-python",
   "name": "python",
   "nbconvert_exporter": "python",
   "pygments_lexer": "ipython3",
   "version": "3.9.7"
  }
 },
 "nbformat": 4,
 "nbformat_minor": 5
}
